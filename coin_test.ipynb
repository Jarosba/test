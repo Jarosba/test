{
 "cells": [
  {
   "cell_type": "code",
   "execution_count": 1,
   "metadata": {},
   "outputs": [],
   "source": [
    "#пусть 0 это решка , 1 это орел\n",
    "# H_0 : p =1/2\n",
    "# H_1 : p !=1/2"
   ]
  },
  {
   "cell_type": "code",
   "execution_count": 83,
   "metadata": {},
   "outputs": [],
   "source": [
    "import itertools\n",
    "from scipy import stats\n",
    "import numpy as np\n",
    "import matplotlib.pyplot as plt"
   ]
  },
  {
   "cell_type": "code",
   "execution_count": 32,
   "metadata": {},
   "outputs": [],
   "source": [
    "def sample(k):\n",
    "    u = [[0]*10*k ,[1]*11*k]\n",
    "    u = list(itertools.chain.from_iterable(u))\n",
    "    return u"
   ]
  },
  {
   "cell_type": "code",
   "execution_count": 115,
   "metadata": {},
   "outputs": [],
   "source": [
    "chi_p_val =[]\n",
    "wald_p_val = []\n",
    "x = []\n",
    "for k in range(50,100,2): #четное , чтобы частоты в хи_квадрат были равные\n",
    "    s = sample(k)\n",
    "    #chi_square_test\n",
    "    f1 = s.count(0)\n",
    "    f2 = s.count(1)\n",
    "    N = f1 +f2\n",
    "    chi , p_val =  stats.chisquare([f1,f2], f_exp=[N/2, N/2])\n",
    "    chi_p_val.append(p_val)\n",
    "    #wald_test\n",
    "    theta = np.mean(s) - 1/2\n",
    "    sigma  = np.sqrt(np.var(s)/len(s))\n",
    "    p_val_wald = 2*(1-stats.norm.cdf(theta/sigma))\n",
    "    wald_p_val.append( p_val_wald)\n",
    "    #x-coordinate \n",
    "    x.append(k*21)"
   ]
  },
  {
   "cell_type": "code",
   "execution_count": 116,
   "metadata": {},
   "outputs": [
    {
     "data": {
      "image/png": "[encoded data removed]",
      "text/plain": [
       "<Figure size 432x288 with 1 Axes>"
      ]
     },
     "metadata": {
      "needs_background": "light"
     },
     "output_type": "display_data"
    }
   ],
   "source": [
    "plt.plot(x, chi_p_val, label=\"Training score\", color=\"black\")\n",
    "plt.plot(x, wald_p_val, label=\"Training score\", color=\"red\")\n",
    "# Create plot\n",
    "plt.legend([\"chi_s\" ,\"wald\"] )\n",
    "plt.title(\"P_VALUE VS N\")\n",
    "plt.xlabel(\"N\")\n",
    "plt.ylabel(\"p_value\")\n",
    "plt.grid()\n",
    "plt.tight_layout()\n",
    "plt.show()"
   ]
  },
  {
   "cell_type": "code",
   "execution_count": null,
   "metadata": {},
   "outputs": [],
   "source": [
    "#выглядит почти что идентично , так как хи_квадрат расчитывается через квадратичную формулу посчитаем N \n",
    "#для произвольного P_VAL"
   ]
  },
  {
   "cell_type": "code",
   "execution_count": 125,
   "metadata": {},
   "outputs": [],
   "source": [
    "#chi_square = N/441 "
   ]
  },
  {
   "cell_type": "code",
   "execution_count": null,
   "outputs": [],
   "source": [
    "def Numero(pv):\n",
    "    N = 441 *stats.chi2.ppf(1-pv, 1)\n",
    "    return N"
   ],
   "metadata": {
    "collapsed": false,
    "pycharm": {
     "name": "#%%\n"
    }
   }
  },
  {
   "cell_type": "code",
   "execution_count": null,
   "outputs": [],
   "source": [
    "Numero(0.05)"
   ],
   "metadata": {
    "collapsed": false,
    "pycharm": {
     "name": "#%%\n"
    }
   }
  },
  {
   "cell_type": "code",
   "execution_count": null,
   "outputs": [],
   "source": [],
   "metadata": {
    "collapsed": false,
    "pycharm": {
     "name": "#%%\n"
    }
   }
  },
  {
   "cell_type": "code",
   "execution_count": 126,
   "metadata": {},
   "outputs": [],
   "source": []
  },
  {
   "cell_type": "code",
   "execution_count": 127,
   "metadata": {},
   "outputs": [
    {
     "data": {
      "text/plain": [
       "1694.0833399261087"
      ]
     },
     "execution_count": 127,
     "metadata": {},
     "output_type": "execute_result"
    }
   ],
   "source": [
    "Numero(0.05)"
   ]
  },
  {
   "cell_type": "code",
   "execution_count": null,
   "metadata": {},
   "outputs": [],
   "source": []
  }
 ],
 "metadata": {
  "kernelspec": {
   "display_name": "Python 3",
   "language": "python",
   "name": "python3"
  },
  "language_info": {
   "codemirror_mode": {
    "name": "ipython",
    "version": 3
   },
   "file_extension": ".py",
   "mimetype": "text/x-python",
   "name": "python",
   "nbconvert_exporter": "python",
   "pygments_lexer": "ipython3",
   "version": "3.8.5"
  }
 },
 "nbformat": 4,
 "nbformat_minor": 4
}